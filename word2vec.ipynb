{
 "cells": [
  {
   "cell_type": "code",
   "execution_count": 2,
   "id": "079d7817-0585-4729-acfd-e42f5c10c4c2",
   "metadata": {},
   "outputs": [],
   "source": [
    "import torch\n",
    "import torch.nn as nn\n",
    "import torch.optim as optim\n",
    "import numpy as np\n",
    "from collections import Counter\n",
    "import re"
   ]
  },
  {
   "cell_type": "code",
   "execution_count": 24,
   "id": "95b94ad1-96fb-4776-9ceb-f03c3d5e6760",
   "metadata": {},
   "outputs": [],
   "source": [
    "text = \"\"\"\n",
    "The quick brown fox jumped over the lazy dog.\n",
    "The fox is quick and brown. The dog is lazy.\n",
    "The cat is neither quick nor lazy.\n",
    "\"\"\"\n",
    "\n",
    "def preprocess(text):\n",
    "    text = text.lower()\n",
    "    tokens = re.findall(r'\\b\\w+\\b', text)\n",
    "    return tokens\n",
    "\n",
    "tokens = preprocess(text)\n",
    "vocab = list(set(tokens))\n",
    "\n",
    "word_to_ix = {word: i for i, word in enumerate(vocab)}\n",
    "ix_to_word = {i: word for word, i in word_to_ix.items()}"
   ]
  },
  {
   "cell_type": "code",
   "execution_count": 27,
   "id": "dfc7120d-a5e7-4076-b17e-9f58ff253b42",
   "metadata": {},
   "outputs": [],
   "source": [
    "def get_context_pairs(tokens, window_size=2):\n",
    "    pairs = []\n",
    "    for i, target in enumerate(tokens):\n",
    "        start = max(0, i - window_size) # to not look before the start\n",
    "        end = min(len(tokens), i + window_size + 1) # to not look after the end\n",
    "        context = tokens[start:i] + tokens[i+1:end] # context before + after of the \"target\"\n",
    "        pairs.extend([(target, ctx) for ctx in context])\n",
    "    return pairs\n",
    "\n",
    "context_pairs = get_context_pairs(tokens)"
   ]
  },
  {
   "cell_type": "code",
   "execution_count": null,
   "id": "3f51ca69-b044-4a7e-95f0-7b7f72930d3c",
   "metadata": {},
   "outputs": [],
   "source": []
  }
 ],
 "metadata": {
  "kernelspec": {
   "display_name": "Python 3 (ipykernel)",
   "language": "python",
   "name": "python3"
  },
  "language_info": {
   "codemirror_mode": {
    "name": "ipython",
    "version": 3
   },
   "file_extension": ".py",
   "mimetype": "text/x-python",
   "name": "python",
   "nbconvert_exporter": "python",
   "pygments_lexer": "ipython3",
   "version": "3.9.17"
  }
 },
 "nbformat": 4,
 "nbformat_minor": 5
}
