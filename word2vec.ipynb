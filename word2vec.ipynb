{
 "cells": [
  {
   "cell_type": "code",
   "execution_count": 1,
   "id": "079d7817-0585-4729-acfd-e42f5c10c4c2",
   "metadata": {},
   "outputs": [],
   "source": [
    "import torch\n",
    "import torch.nn as nn\n",
    "import torch.optim as optim\n",
    "import numpy as np\n",
    "from collections import Counter\n",
    "import re"
   ]
  },
  {
   "cell_type": "code",
   "execution_count": 2,
   "id": "95b94ad1-96fb-4776-9ceb-f03c3d5e6760",
   "metadata": {},
   "outputs": [],
   "source": [
    "text = \"\"\"\n",
    "The quick brown fox jumped over the lazy dog.\n",
    "The fox is quick and brown. The dog is lazy.\n",
    "The cat is neither quick nor lazy.\n",
    "\"\"\"\n",
    "\n",
    "def preprocess(text):\n",
    "    text = text.lower()\n",
    "    tokens = re.findall(r'\\b\\w+\\b', text)\n",
    "    return tokens\n",
    "\n",
    "tokens = preprocess(text)\n",
    "vocab = list(set(tokens))\n",
    "\n",
    "word_to_ix = {word: i for i, word in enumerate(vocab)}\n",
    "ix_to_word = {i: word for word, i in word_to_ix.items()}"
   ]
  },
  {
   "cell_type": "code",
   "execution_count": 3,
   "id": "dfc7120d-a5e7-4076-b17e-9f58ff253b42",
   "metadata": {},
   "outputs": [],
   "source": [
    "def get_context_pairs(tokens, window_size=2):\n",
    "    pairs = []\n",
    "    for i, target in enumerate(tokens):\n",
    "        start = max(0, i - window_size) # to not look before the start\n",
    "        end = min(len(tokens), i + window_size + 1) # to not look after the end\n",
    "        context = tokens[start:i] + tokens[i+1:end] # context before + after of the \"target\"\n",
    "        pairs.extend([(target, ctx) for ctx in context])\n",
    "    return pairs\n",
    "\n",
    "context_pairs = get_context_pairs(tokens)"
   ]
  },
  {
   "cell_type": "code",
   "execution_count": 4,
   "id": "3f51ca69-b044-4a7e-95f0-7b7f72930d3c",
   "metadata": {},
   "outputs": [],
   "source": [
    "class SkipGram(nn.Module):\n",
    "    def __init__(self, vocab_size, embedding_dim):\n",
    "        super(SkipGram, self).__init__()\n",
    "        self.embeddings = nn.Embedding(vocab_size, embedding_dim)\n",
    "        self.output = nn.Linear(embedding_dim, vocab_size)\n",
    "        \n",
    "    def forward(self, x):\n",
    "        embedded = self.embeddings(x)\n",
    "        out = self.output(embedded)\n",
    "        return torch.log_softmax(out, dim=1) # becasue of NLLLoss"
   ]
  },
  {
   "cell_type": "code",
   "execution_count": 5,
   "id": "d0fd79f9-b8c6-4ddc-8888-00a236454538",
   "metadata": {},
   "outputs": [
    {
     "name": "stdout",
     "output_type": "stream",
     "text": [
      "epoch 0, loss: 268.04978477954865\n",
      "epoch 10, loss: 228.10314893722534\n",
      "epoch 20, loss: 212.74036729335785\n",
      "epoch 30, loss: 204.69714057445526\n",
      "epoch 40, loss: 199.6276605129242\n",
      "epoch 50, loss: 196.04817807674408\n",
      "epoch 60, loss: 193.3554549217224\n",
      "epoch 70, loss: 191.25290977954865\n",
      "epoch 80, loss: 189.56860542297363\n",
      "epoch 90, loss: 188.1928254365921\n"
     ]
    }
   ],
   "source": [
    "model = SkipGram(len(vocab), embedding_dim=50)\n",
    "optimizer = optim.SGD(model.parameters(), lr=0.001)\n",
    "criterion = nn.NLLLoss()\n",
    "\n",
    "for epoch in range(100):\n",
    "    total_loss = 0\n",
    "    for target, context in context_pairs:\n",
    "        target_ix = torch.tensor([word_to_ix[target]])\n",
    "        context_ix = torch.tensor([word_to_ix[context]])\n",
    "        \n",
    "        log_probs = model(target_ix)\n",
    "        loss = criterion(log_probs, context_ix)\n",
    "        \n",
    "        optimizer.zero_grad()\n",
    "        loss.backward()\n",
    "        optimizer.step()\n",
    "        \n",
    "        total_loss += loss.item()\n",
    "    \n",
    "    if epoch % 10 == 0:\n",
    "        print(f\"epoch {epoch}, loss: {total_loss}\")"
   ]
  },
  {
   "cell_type": "code",
   "execution_count": 6,
   "id": "7554b415-5fd2-4821-b905-c57ac44c769e",
   "metadata": {},
   "outputs": [
    {
     "name": "stdout",
     "output_type": "stream",
     "text": [
      "similar words to 'fox':\n",
      "cat: 0.135\n",
      "nor: 0.120\n",
      "lazy: 0.097\n"
     ]
    }
   ],
   "source": [
    "def get_vector(word):\n",
    "    word_ix = torch.tensor([word_to_ix[word]])\n",
    "    return model.embeddings(word_ix).detach().numpy()[0]\n",
    "\n",
    "def similar_words(word, n=3):\n",
    "    target_vec = get_vector(word)\n",
    "    similarities = []\n",
    "    for w in vocab:\n",
    "        if w != word:\n",
    "            vec = get_vector(w)\n",
    "            similarity = float(np.dot(target_vec, vec) / (np.linalg.norm(target_vec) * np.linalg.norm(vec)))\n",
    "            similarities.append((w, similarity))\n",
    "    return sorted(similarities, key=lambda x: x[1], reverse=True)[:n]\n",
    "\n",
    "\n",
    "print(\"similar words to 'fox':\")\n",
    "similar = similar_words('fox', n=3)\n",
    "for word, similarity in similar:\n",
    "    print(f\"{word}: {similarity:.3f}\")"
   ]
  }
 ],
 "metadata": {
  "kernelspec": {
   "display_name": "Python 3 (ipykernel)",
   "language": "python",
   "name": "python3"
  },
  "language_info": {
   "codemirror_mode": {
    "name": "ipython",
    "version": 3
   },
   "file_extension": ".py",
   "mimetype": "text/x-python",
   "name": "python",
   "nbconvert_exporter": "python",
   "pygments_lexer": "ipython3",
   "version": "3.9.17"
  }
 },
 "nbformat": 4,
 "nbformat_minor": 5
}
